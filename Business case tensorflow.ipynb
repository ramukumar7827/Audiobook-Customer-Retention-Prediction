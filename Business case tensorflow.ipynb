{
 "cells": [
  {
   "cell_type": "code",
   "execution_count": 1,
   "id": "d062ea5f-fe1b-4c63-9e5b-1b2b2df63db7",
   "metadata": {},
   "outputs": [],
   "source": [
    "import numpy as np\n",
    "from sklearn import preprocessing\n",
    "import pandas as pd"
   ]
  },
  {
   "cell_type": "code",
   "execution_count": 2,
   "id": "ff3dc9d3-0553-4f83-8c69-eba038d41e67",
   "metadata": {},
   "outputs": [
    {
     "data": {
      "text/plain": [
       "array([[9.9400e+02, 1.6200e+03, 1.6200e+03, ..., 5.0000e+00, 9.2000e+01,\n",
       "        0.0000e+00],\n",
       "       [1.1430e+03, 2.1600e+03, 2.1600e+03, ..., 0.0000e+00, 0.0000e+00,\n",
       "        0.0000e+00],\n",
       "       [2.0590e+03, 2.1600e+03, 2.1600e+03, ..., 0.0000e+00, 3.8800e+02,\n",
       "        0.0000e+00],\n",
       "       ...,\n",
       "       [3.1134e+04, 2.1600e+03, 2.1600e+03, ..., 0.0000e+00, 0.0000e+00,\n",
       "        0.0000e+00],\n",
       "       [3.2832e+04, 1.6200e+03, 1.6200e+03, ..., 0.0000e+00, 9.0000e+01,\n",
       "        0.0000e+00],\n",
       "       [2.5100e+02, 1.6740e+03, 3.3480e+03, ..., 0.0000e+00, 0.0000e+00,\n",
       "        1.0000e+00]])"
      ]
     },
     "execution_count": 2,
     "metadata": {},
     "output_type": "execute_result"
    }
   ],
   "source": [
    "raw_csv_data=np.loadtxt('Audiobooks_data.csv',delimiter=',')\n",
    "raw_csv_data"
   ]
  },
  {
   "cell_type": "markdown",
   "id": "308b7830-d987-4818-9196-adbf59e96d52",
   "metadata": {},
   "source": [
    "# Preprocessing"
   ]
  },
  {
   "cell_type": "code",
   "execution_count": 4,
   "id": "1cfb8a2b-b48a-4ddc-84c7-d8e1d635214d",
   "metadata": {},
   "outputs": [
    {
     "data": {
      "text/plain": [
       "array([0., 0., 0., ..., 0., 0., 1.])"
      ]
     },
     "execution_count": 4,
     "metadata": {},
     "output_type": "execute_result"
    }
   ],
   "source": [
    "unscaled_inputs_all=raw_csv_data[:,1:-1]\n",
    "target_all=raw_csv_data[:,-1]\n",
    "target_all"
   ]
  },
  {
   "cell_type": "code",
   "execution_count": 5,
   "id": "9b8f244f-f4ad-41cf-8add-455445d7bd50",
   "metadata": {},
   "outputs": [],
   "source": [
    "## we have to balanced the data so we are taking same number of data in which target=0 as target =1,remaining data has to delete to balanced the data\n",
    "num_one_targets=int(np.sum(target_all))\n",
    "zero_target_counter=0\n",
    "indices_to_remove=[]\n",
    "for i in range(target_all.shape[0]):\n",
    "    if target_all[i]==0:\n",
    "        zero_target_counter+=1\n",
    "        if zero_target_counter>num_one_targets:\n",
    "           indices_to_remove.append(i)\n",
    "#unscaled_inputs_equal_priors=np.delete(unscaled_inputs_all,indices_to_remove,axis=0)\n",
    "#targets_equal_priors=np.delete(target_all,indices_to_remove,axis=0)\n",
    "unscaled_inputs_equal_priors=unscaled_inputs_all\n",
    "targets_equal_priors=target_all"
   ]
  },
  {
   "cell_type": "markdown",
   "id": "e4c3bfc2-2d21-4212-a0d1-15f9a3a5eac3",
   "metadata": {},
   "source": [
    "# Standardized"
   ]
  },
  {
   "cell_type": "code",
   "execution_count": 7,
   "id": "0fc4f1e0-9e75-4cc2-bb9a-74deb07810bf",
   "metadata": {},
   "outputs": [],
   "source": [
    "scaled_inputs=preprocessing.scale(unscaled_inputs_equal_priors)"
   ]
  },
  {
   "cell_type": "code",
   "execution_count": 8,
   "id": "ee6fbf2d-0e43-4fdf-a7ad-3f1351b3709b",
   "metadata": {},
   "outputs": [],
   "source": [
    "shuffled_indices=np.arange(scaled_inputs.shape[0])\n",
    "np.random.shuffle(shuffled_indices)\n",
    "shuffled_inputs=scaled_inputs[shuffled_indices]\n",
    "shuffled_targets=targets_equal_priors[shuffled_indices]"
   ]
  },
  {
   "cell_type": "code",
   "execution_count": 9,
   "id": "2ecdce8c-17ed-4cb7-9c3c-fd0ef3db0d7c",
   "metadata": {},
   "outputs": [],
   "source": [
    "samples_count=shuffled_inputs.shape[0]\n",
    "train_samples_count=int(0.8*samples_count)\n",
    "validation_samples_count=int(0.1*samples_count)\n",
    "test_samples_count=samples_count-train_samples_count-validation_samples_count\n",
    "\n",
    "train_inputs=shuffled_inputs[:train_samples_count]\n",
    "train_targets=shuffled_targets[:train_samples_count]\n",
    "\n",
    "validation_inputs=shuffled_inputs[train_samples_count:train_samples_count+validation_samples_count]\n",
    "validation_targets=shuffled_targets[train_samples_count:train_samples_count+validation_samples_count]\n",
    "\n",
    "test_inputs = shuffled_inputs[train_samples_count+validation_samples_count:]\n",
    "test_targets = shuffled_targets[train_samples_count+validation_samples_count:]"
   ]
  },
  {
   "cell_type": "code",
   "execution_count": 10,
   "id": "9430026a-db94-43d5-af64-b6bd2841e402",
   "metadata": {},
   "outputs": [],
   "source": [
    "np.savez('Audiobooks_data_train', inputs=train_inputs, targets=train_targets)\n",
    "np.savez('Audiobooks_data_validation', inputs=validation_inputs, targets=validation_targets)\n",
    "np.savez('Audiobooks_data_test', inputs=test_inputs, targets=test_targets)"
   ]
  },
  {
   "cell_type": "markdown",
   "id": "95c8d045-5312-4d63-9b28-6fa7f4c41053",
   "metadata": {},
   "source": [
    "# Data"
   ]
  },
  {
   "cell_type": "code",
   "execution_count": 12,
   "id": "cd9e7fa4-aec2-49d7-9b0a-9ef462c4330b",
   "metadata": {},
   "outputs": [],
   "source": [
    "import tensorflow as tf"
   ]
  },
  {
   "cell_type": "code",
   "execution_count": 13,
   "id": "d7d808df-9bb7-4d42-9733-9ab96dd9d786",
   "metadata": {},
   "outputs": [],
   "source": [
    " npz=np.load('Audiobooks_data_train.npz')\n",
    "train_inputs=npz['inputs'].astype(np.float64)\n",
    "train_targets=npz['targets'].astype(np.int64)\n",
    "\n",
    "npz=np.load('Audiobooks_data_validation.npz')\n",
    "validation_inputs,validation_targets=npz['inputs'].astype(np.float64),npz['targets'].astype(np.int64)\n",
    "\n",
    "npz = np.load('Audiobooks_data_test.npz')\n",
    "test_inputs, test_targets = npz['inputs'].astype(np.float64), npz['targets'].astype(np.int64)"
   ]
  },
  {
   "cell_type": "markdown",
   "id": "e7611c8e-b32e-4e61-8885-14c5763741d4",
   "metadata": {},
   "source": [
    "# Model"
   ]
  },
  {
   "cell_type": "code",
   "execution_count": 32,
   "id": "ead19144-9a89-46e7-87ca-dd8a72d806a7",
   "metadata": {},
   "outputs": [
    {
     "data": {
      "text/plain": [
       "11267"
      ]
     },
     "execution_count": 32,
     "metadata": {},
     "output_type": "execute_result"
    }
   ],
   "source": [
    "data=train_inputs.shape[0]\n",
    "data"
   ]
  },
  {
   "cell_type": "code",
   "execution_count": 34,
   "id": "89d8c783-a40c-40fb-923e-15714ca435ff",
   "metadata": {},
   "outputs": [
    {
     "name": "stdout",
     "output_type": "stream",
     "text": [
      "Epoch 1/100\n",
      "113/113 - 2s - 20ms/step - accuracy: 0.8766 - loss: 0.3440 - val_accuracy: 0.9006 - val_loss: 0.2627\n",
      "Epoch 2/100\n",
      "113/113 - 0s - 3ms/step - accuracy: 0.9021 - loss: 0.2642 - val_accuracy: 0.9062 - val_loss: 0.2457\n",
      "Epoch 3/100\n",
      "113/113 - 0s - 3ms/step - accuracy: 0.9050 - loss: 0.2503 - val_accuracy: 0.9084 - val_loss: 0.2322\n",
      "Epoch 4/100\n",
      "113/113 - 0s - 3ms/step - accuracy: 0.9051 - loss: 0.2460 - val_accuracy: 0.9084 - val_loss: 0.2296\n",
      "Epoch 5/100\n",
      "113/113 - 0s - 3ms/step - accuracy: 0.9080 - loss: 0.2409 - val_accuracy: 0.9006 - val_loss: 0.2645\n",
      "Epoch 6/100\n",
      "113/113 - 0s - 4ms/step - accuracy: 0.9081 - loss: 0.2388 - val_accuracy: 0.9070 - val_loss: 0.2259\n",
      "Epoch 7/100\n",
      "113/113 - 0s - 3ms/step - accuracy: 0.9079 - loss: 0.2380 - val_accuracy: 0.9084 - val_loss: 0.2329\n",
      "Epoch 8/100\n",
      "113/113 - 0s - 4ms/step - accuracy: 0.9089 - loss: 0.2362 - val_accuracy: 0.9126 - val_loss: 0.2262\n"
     ]
    },
    {
     "data": {
      "text/plain": [
       "<keras.src.callbacks.history.History at 0x1f5df9d6b80>"
      ]
     },
     "execution_count": 34,
     "metadata": {},
     "output_type": "execute_result"
    }
   ],
   "source": [
    "input_size=train_inputs.shape[1]\n",
    "output_size=2\n",
    "hidden_layer_size=100\n",
    "\n",
    "model = tf.keras.Sequential([\n",
    "    tf.keras.layers.Dense(hidden_layer_size, activation='relu'), # 1st hidden layer\n",
    "    tf.keras.layers.Dense(hidden_layer_size, activation='relu'), # 2nd hidden layer\n",
    "    # we just make sure to activate it with softmax\n",
    "    tf.keras.layers.Dense(output_size, activation='softmax') # output layer\n",
    "])\n",
    "model.compile(optimizer='adam', loss='sparse_categorical_crossentropy', metrics=['accuracy'])\n",
    "early_stopping = tf.keras.callbacks.EarlyStopping(patience=2)\n",
    "batch_size = 100\n",
    "max_epochs=100\n",
    "model.fit(train_inputs,\n",
    "          train_targets,\n",
    "          batch_size=batch_size,\n",
    "          epochs=max_epochs,\n",
    "          callbacks=[early_stopping],\n",
    "          validation_data=(validation_inputs,validation_targets),\n",
    "          verbose=2)\n",
    "          "
   ]
  },
  {
   "cell_type": "code",
   "execution_count": 16,
   "id": "c6ccb3ec-06eb-4b4e-99b2-da55fb5efbfc",
   "metadata": {},
   "outputs": [],
   "source": [
    "## As we see validation loss is increasing sometimes this means our model is overfit so we need to early stop (one of type of callBack)"
   ]
  },
  {
   "cell_type": "markdown",
   "id": "4103bc18-daf0-468d-95fb-f707d202be06",
   "metadata": {},
   "source": [
    "# Testing the model"
   ]
  },
  {
   "cell_type": "code",
   "execution_count": 17,
   "id": "cf5e60e6-8493-4ebb-9f32-f5088ef940d8",
   "metadata": {},
   "outputs": [
    {
     "name": "stdout",
     "output_type": "stream",
     "text": [
      "\u001b[1m45/45\u001b[0m \u001b[32m━━━━━━━━━━━━━━━━━━━━\u001b[0m\u001b[37m\u001b[0m \u001b[1m0s\u001b[0m 2ms/step - accuracy: 0.9254 - loss: 0.2162\n"
     ]
    }
   ],
   "source": [
    "test_loss, test_accuracy = model.evaluate(test_inputs, test_targets)"
   ]
  },
  {
   "cell_type": "code",
   "execution_count": null,
   "id": "beed5cd7-3e63-48e6-84f8-8264e12be508",
   "metadata": {},
   "outputs": [],
   "source": []
  },
  {
   "cell_type": "code",
   "execution_count": null,
   "id": "92421829-e289-43c9-8480-063272f8561f",
   "metadata": {},
   "outputs": [],
   "source": []
  }
 ],
 "metadata": {
  "kernelspec": {
   "display_name": "Python (fresh_tf_env)",
   "language": "python",
   "name": "fresh_tf_env"
  },
  "language_info": {
   "codemirror_mode": {
    "name": "ipython",
    "version": 3
   },
   "file_extension": ".py",
   "mimetype": "text/x-python",
   "name": "python",
   "nbconvert_exporter": "python",
   "pygments_lexer": "ipython3",
   "version": "3.9.20"
  }
 },
 "nbformat": 4,
 "nbformat_minor": 5
}
